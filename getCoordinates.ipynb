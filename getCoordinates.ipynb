{
 "cells": [
  {
   "cell_type": "code",
   "execution_count": 1,
   "metadata": {},
   "outputs": [],
   "source": [
    "import geopandas as gpd\n",
    "import fiona\n",
    "kml_file = \"../files/CTO_113-11.kml\"\n",
    "kml_clean_file = \"../files/Legend.kml\"\n",
    "import pandas as pd\n",
    "\n",
    "gpd.io.file.fiona.drvsupport.supported_drivers['KML'] = 'rw'\n"
   ]
  },
  {
   "cell_type": "code",
   "execution_count": 5,
   "metadata": {},
   "outputs": [],
   "source": [
    "df = pd.DataFrame()\n",
    "# If we wanted to get all the folders in the kml we use this.\n",
    "for layer in fiona.listlayers(kml_file):\n",
    "    s = gpd.read_file(kml_file, driver='KML', layer=layer)\n",
    "    df = pd.concat([df, s], ignore_index=True)"
   ]
  },
  {
   "cell_type": "code",
   "execution_count": 6,
   "metadata": {},
   "outputs": [],
   "source": [
    "# However, at this point we only want the folder with the utility poles.\n",
    "df = gpd.read_file(kml_clean_file, driver='KML')\n",
    "\n",
    "\"\"\" Since the type of the column \"geometry\" is Shapely.Point\n",
    "    we have to change it manually.\"\"\"\n",
    "from shapely import wkt\n",
    "df['str_geometry'] = df.geometry.apply(lambda x: wkt.dumps(x))\n",
    "df['str_geometry'] = df.str_geometry.apply(lambda x: x[9:].split()[:2])\n",
    "df['str_geometry'] = df.str_geometry.apply(lambda x: [x[1],x[0]])\n",
    "df['latitude'] = df.str_geometry.apply(lambda x: x[0])\n",
    "df['longitude'] = df.str_geometry.apply(lambda x: x[1])\n",
    "df['ini'] = 2\n"
   ]
  },
  {
   "cell_type": "code",
   "execution_count": 7,
   "metadata": {},
   "outputs": [],
   "source": [
    "\"\"\" It'd be a great idea to get the distances between every single utility pole\n",
    "    before starting the actual algorithm\"\"\"\n",
    "import geopandas as gpd\n",
    "from geopy.distance import geodesic\n",
    "from scipy.spatial.distance import pdist, squareform\n",
    "coords = df[['latitude', 'longitude']].values\n",
    "dist_matrix = squareform(pdist(coords, lambda u, v: geodesic(u, v).meters))\n"
   ]
  },
  {
   "cell_type": "code",
   "execution_count": null,
   "metadata": {},
   "outputs": [],
   "source": [
    "\"\"\" Now that we have a matrix, which each element Aij, represents the distance\n",
    "    from pole i to pole j, we want to associate those distances with each pole\n",
    "    \"\"\""
   ]
  }
 ],
 "metadata": {
  "kernelspec": {
   "display_name": "Python 3",
   "language": "python",
   "name": "python3"
  },
  "language_info": {
   "codemirror_mode": {
    "name": "ipython",
    "version": 3
   },
   "file_extension": ".py",
   "mimetype": "text/x-python",
   "name": "python",
   "nbconvert_exporter": "python",
   "pygments_lexer": "ipython3",
   "version": "3.9.13"
  },
  "orig_nbformat": 4
 },
 "nbformat": 4,
 "nbformat_minor": 2
}
